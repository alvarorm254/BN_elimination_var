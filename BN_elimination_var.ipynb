{
 "cells": [
  {
   "cell_type": "code",
   "execution_count": 3,
   "metadata": {},
   "outputs": [],
   "source": [
    "import numpy as np"
   ]
  },
  {
   "cell_type": "markdown",
   "metadata": {},
   "source": [
    "# 1. Defining Network"
   ]
  },
  {
   "cell_type": "code",
   "execution_count": 1,
   "metadata": {},
   "outputs": [],
   "source": [
    "BN={\n",
    "    \"D\" : {\n",
    "        \"NUM\": 2,\n",
    "        \"PAR\":[],\n",
    "        \"MAT\":[0.6,0.4]\n",
    "    },\n",
    "    \"I\":{\n",
    "        \"NUM\": 2,\n",
    "        \"PAR\":[],\n",
    "        \"MAT\":[0.7,0.3]\n",
    "    },\n",
    "    \"G\":{\n",
    "        \"NUM\": 3,\n",
    "        \"PAR\":[\"I\",\"D\"],\n",
    "        \"MAT\":[[0.3,0.4,0.3],[0.05,0.25,0.7],[0.9,0.08,0.02],[0.5,0.3,0.2]]\n",
    "    },\n",
    "    \"S\":{\n",
    "        \"NUM\": 2,\n",
    "        \"PAR\":[\"I\"],\n",
    "        \"MAT\":[[0.95,0.05],[0.2,0.8]]\n",
    "    },\n",
    "    \"L\":{\n",
    "        \"NUM\": 2,\n",
    "        \"PAR\":[\"G\"],\n",
    "        \"MAT\":[[0.1,0.9],[0.4,0.6],[0.99,0.01]]\n",
    "    }   \n",
    "}\n",
    "HV=[]\n",
    "QR=[\"L\"]\n",
    "EV=[\"D\",\"I\"]\n",
    "BNA=[]\n",
    "BNC=[]\n",
    "AC={\n",
    "    \"ANT\": [],\n",
    "    \"CON\": [],\n",
    "    \"MAT\":1    \n",
    "}"
   ]
  },
  {
   "cell_type": "markdown",
   "metadata": {},
   "source": [
    "# 2 Getting hidden nodes"
   ]
  },
  {
   "cell_type": "code",
   "execution_count": 113,
   "metadata": {},
   "outputs": [
    {
     "name": "stdout",
     "output_type": "stream",
     "text": [
      "['B', 'A']\n"
     ]
    }
   ],
   "source": [
    "HV=[]\n",
    "for var in BN2:\n",
    "    if not var in QR+EV:\n",
    "        HV.append(var)\n",
    "print(HV)"
   ]
  },
  {
   "cell_type": "markdown",
   "metadata": {},
   "source": [
    "# 3. For evidences"
   ]
  },
  {
   "cell_type": "code",
   "execution_count": 114,
   "metadata": {},
   "outputs": [
    {
     "name": "stdout",
     "output_type": "stream",
     "text": [
      "{'ANT': ['A'], 'CON': ['J'], 'MAT': array([0.05, 0.9 ])}\n",
      "{'ANT': ['A'], 'CON': ['J'], 'MAT': array([0.05, 0.9 ])}\n"
     ]
    }
   ],
   "source": [
    "AC2={}\n",
    "for ev in EV:\n",
    "    #If the acumulated is empty.\n",
    "    if AC2=={}:\n",
    "        AC2[\"ANT\"]=BN2[ev][\"PAR\"]\n",
    "        AC2[\"CON\"]=[ev]\n",
    "        AC2[\"MAT\"]=BN2[ev][\"MAT\"][:,EV_V[ev]]*1 #Array 1D\n",
    "        print(AC2)\n",
    "    #If there is an element in the acumulated.\n",
    "    else:\n",
    "        AC2[\"CON\"]|=set([ev])\n",
    "        #Finding elements of the second list not in intersection \n",
    "        new=[item for item in AC2[\"ANT\"] if item not in BN2[ev][\"PAR\"]]\n",
    "        #Factor of expansion in the matrix\n",
    "        mult=2**len(new)\n",
    "        #Preparing for the multiplication\n",
    "        m_aux=np.repeat(AC2[\"MAT\"],mult)\n",
    "        inter=[val for val in AC2[\"ANT\"] if val in BN2[ev][\"PAR\"]]\n",
    "        #Finding location for each element in intersetion(both lists)\n",
    "        loc1=[]\n",
    "        loc2=[]\n",
    "        for el in inter:\n",
    "            Loc1+=BN2[ev][\"PAR\"].index(el)\n",
    "            Loc2+=AC2[\"ANT\"].index(el)\n",
    "            \n",
    "        #Find locations in the m_aux to multiply each element of the\n",
    "        # second list\n",
    "        for i in range(len(AC2[\"MAT\"])):\n",
    "            #Function to find correct location (pendient)\n",
    "            loc=codif(i,AC2[\"MAT\"],BN2[ev])\n",
    "            #Multiplying elements\n",
    "            m_aux[loc]*=AC2[\"MAT\"][i]\n",
    "            \n",
    "        #Searching locations in second list of probabilities\n",
    "        # Used to extract the multipliers\n",
    "        \n",
    "        \n",
    "        print(AC2)"
   ]
  },
  {
   "cell_type": "markdown",
   "metadata": {},
   "source": [
    "# 4. For hidden nodes"
   ]
  },
  {
   "cell_type": "code",
   "execution_count": null,
   "metadata": {},
   "outputs": [],
   "source": [
    "for hd in HV:\n",
    "    #If the acumulated is empty.\n",
    "    if AC2=={}:\n",
    "        AC2[\"ANT\"]=BN2[hd][\"PAR\"]\n",
    "        AC2[\"CON\"]=[hd]\n",
    "        AC2[\"MAT\"]=BN2[hd][\"MAT\"][:,EV_V[ev]]*1 #Array 1D\n",
    "        print(AC2)\n",
    "    #If there is an element in the acumulated.\n",
    "    else:\n",
    "        AC2[\"CON\"]|=set([hd])\n",
    "        #Finding elements of the second list not in intersection \n",
    "        new=[item for item in AC2[\"ANT\"] if item not in BN2[ev][\"PAR\"]]\n",
    "        #Factor of expansion in the matrix\n",
    "        mult=2**len(new)\n",
    "        #Preparing for the multiplication\n",
    "        m_aux=np.repeat(AC2[\"MAT\"],mult)\n",
    "        inter=[val for val in AC2[\"ANT\"] if val in BN2[ev][\"PAR\"]]\n",
    "        #Finding location for each element in intersetion(both lists)\n",
    "        loc1=[]\n",
    "        loc2=[]\n",
    "        for el in inter:\n",
    "            Loc1+=BN2[ev][\"PAR\"].index(el)\n",
    "            Loc2+=AC2[\"ANT\"].index(el)\n",
    "            \n",
    "        #Find locations in the m_aux to multiply each element of the\n",
    "        # second list\n",
    "        for i in range(len(AC2[\"MAT\"])):\n",
    "            #Function to find correct location (pendient)\n",
    "            loc=codif(i,AC2[\"MAT\"],BN2[ev])\n",
    "            #Multiplying elements\n",
    "            m_aux[loc]*=AC2[\"MAT\"][i]\n",
    "        \n",
    "        #Searching locations in second list of probabilities\n",
    "        # Used to extract the multipliers\n",
    "        \n",
    "        \n",
    "        print(AC2)"
   ]
  },
  {
   "cell_type": "code",
   "execution_count": null,
   "metadata": {},
   "outputs": [],
   "source": []
  },
  {
   "cell_type": "code",
   "execution_count": null,
   "metadata": {},
   "outputs": [],
   "source": []
  },
  {
   "cell_type": "code",
   "execution_count": null,
   "metadata": {},
   "outputs": [],
   "source": []
  }
 ],
 "metadata": {
  "kernelspec": {
   "display_name": "Python 3",
   "language": "python",
   "name": "python3"
  },
  "language_info": {
   "codemirror_mode": {
    "name": "ipython",
    "version": 3
   },
   "file_extension": ".py",
   "mimetype": "text/x-python",
   "name": "python",
   "nbconvert_exporter": "python",
   "pygments_lexer": "ipython3",
   "version": "3.6.5"
  }
 },
 "nbformat": 4,
 "nbformat_minor": 2
}
